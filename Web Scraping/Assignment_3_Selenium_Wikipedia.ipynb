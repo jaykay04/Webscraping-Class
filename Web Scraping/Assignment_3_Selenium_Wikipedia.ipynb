{
 "cells": [
  {
   "cell_type": "markdown",
   "id": "24b5ddf3",
   "metadata": {},
   "source": [
    "### Finding and interacting with elements using the different methods"
   ]
  },
  {
   "cell_type": "code",
   "execution_count": 13,
   "id": "a640ca77",
   "metadata": {},
   "outputs": [],
   "source": [
    "from selenium.webdriver import Chrome\n",
    "from selenium.webdriver.support.ui import Select\n",
    "from selenium.webdriver.support.ui import WebDriverWait\n",
    "from selenium.webdriver.common.by import By\n",
    "from selenium import webdriver\n",
    "from selenium.webdriver.chrome.options import Options\n",
    "from selenium.webdriver.support import expected_conditions as EC\n",
    "\n",
    "from selenium.webdriver.chrome.service import Service\n",
    "\n",
    "service = Service(executable_path = r'C:\\Users\\LENOVO\\Downloads\\chromedriver-win64\\chromedriver-win64\\chromedriver.exe')\n",
    "\n",
    "# Initialize the WebDriver\n",
    "driver = webdriver.Chrome(service = service)\n",
    "\n",
    "# Open a website\n",
    "driver.get(\"https://en.wikipedia.org/wiki/Qatar\")\n",
    "\n",
    "# Print the page title\n",
    "# print(driver.title)\n",
    "\n",
    "# Close the browser\n",
    "# driver.quit()"
   ]
  },
  {
   "cell_type": "code",
   "execution_count": null,
   "id": "7d9dc15e",
   "metadata": {},
   "outputs": [],
   "source": [
    "# element_by_id = driver.find_element(By.ID, \"login-button\")\n",
    "\n",
    "# element_by_name = driver.find_element(By.NAME, \"username\")\n",
    "\n",
    "# element_by_class = driver.find_element(By.CLASS_NAME, \"submit-button\")\n",
    "\n",
    "# element_by_tag = driver.find_element(By.TAG_NAME, \"button\")\n",
    "\n",
    "# element_by_link = driver.find_element(By.LINK_TEXT, \"Sign Up\")\n",
    "\n",
    "# element_by_partial_link = driver.find_element(By.PARTIAL_LINK_TEXT, \"Sign\")\n",
    "\n",
    "# element_by_xpath = driver.find_element(By.XPATH, \"//div[@id = 'loom-companion-mv3']\")\n",
    "\n",
    "# elemen_by_css = driver.find_element(By.CSS_SELECTOR, \"#login-form .submit-button\")"
   ]
  },
  {
   "cell_type": "code",
   "execution_count": 9,
   "id": "2acd2199",
   "metadata": {},
   "outputs": [
    {
     "data": {
      "text/plain": [
       "'Name'"
      ]
     },
     "execution_count": 9,
     "metadata": {},
     "output_type": "execute_result"
    }
   ],
   "source": [
    "# element_by_id \n",
    "\n",
    "title = driver.find_element(By.ID, \"Name\")\n",
    "title.text"
   ]
  },
  {
   "cell_type": "code",
   "execution_count": 16,
   "id": "63c0f87b",
   "metadata": {},
   "outputs": [
    {
     "data": {
      "text/plain": [
       "'Antiquity'"
      ]
     },
     "execution_count": 16,
     "metadata": {},
     "output_type": "execute_result"
    }
   ],
   "source": [
    "# element_by_class\n",
    "\n",
    "sub_title = driver.find_element(By.CLASS_NAME, \"mw-heading.mw-heading3\")\n",
    "sub_title.text"
   ]
  },
  {
   "cell_type": "code",
   "execution_count": 21,
   "id": "919cc4cb",
   "metadata": {},
   "outputs": [
    {
     "data": {
      "text/plain": [
       "'Qatar'"
      ]
     },
     "execution_count": 21,
     "metadata": {},
     "output_type": "execute_result"
    }
   ],
   "source": [
    "# element_by_tag\n",
    "tag = driver.find_element(By.TAG_NAME, \"h1\")\n",
    "tag.text"
   ]
  },
  {
   "cell_type": "code",
   "execution_count": 25,
   "id": "88bbc01e",
   "metadata": {},
   "outputs": [
    {
     "ename": "NoSuchElementException",
     "evalue": "Message: no such element: Unable to locate element: {\"method\":\"partial link text\",\"selector\":\"Portuguese era\"}\n  (Session info: chrome=136.0.7103.93); For documentation on this error, please visit: https://www.selenium.dev/documentation/webdriver/troubleshooting/errors#no-such-element-exception\nStacktrace:\n\tGetHandleVerifier [0x00007FF6ED4BCF25+75717]\n\tGetHandleVerifier [0x00007FF6ED4BCF80+75808]\n\t(No symbol) [0x00007FF6ED288F9A]\n\t(No symbol) [0x00007FF6ED2DF4C6]\n\t(No symbol) [0x00007FF6ED2DF77C]\n\t(No symbol) [0x00007FF6ED332577]\n\t(No symbol) [0x00007FF6ED3073BF]\n\t(No symbol) [0x00007FF6ED32F39C]\n\t(No symbol) [0x00007FF6ED307153]\n\t(No symbol) [0x00007FF6ED2D0421]\n\t(No symbol) [0x00007FF6ED2D11B3]\n\tGetHandleVerifier [0x00007FF6ED7BD6FD+3223453]\n\tGetHandleVerifier [0x00007FF6ED7B7CA2+3200322]\n\tGetHandleVerifier [0x00007FF6ED7D5AD3+3322739]\n\tGetHandleVerifier [0x00007FF6ED4D69FA+180890]\n\tGetHandleVerifier [0x00007FF6ED4DE0FF+211359]\n\tGetHandleVerifier [0x00007FF6ED4C5274+109332]\n\tGetHandleVerifier [0x00007FF6ED4C5422+109762]\n\tGetHandleVerifier [0x00007FF6ED4ABA39+4825]\n\tBaseThreadInitThunk [0x00007FFE77FE259D+29]\n\tRtlUserThreadStart [0x00007FFE78AEAF38+40]\n",
     "output_type": "error",
     "traceback": [
      "\u001b[1;31m---------------------------------------------------------------------------\u001b[0m",
      "\u001b[1;31mNoSuchElementException\u001b[0m                    Traceback (most recent call last)",
      "Cell \u001b[1;32mIn[25], line 3\u001b[0m\n\u001b[0;32m      1\u001b[0m \u001b[38;5;66;03m# element_by_link\u001b[39;00m\n\u001b[1;32m----> 3\u001b[0m text_content \u001b[38;5;241m=\u001b[39m \u001b[43mdriver\u001b[49m\u001b[38;5;241;43m.\u001b[39;49m\u001b[43mfind_element\u001b[49m\u001b[43m(\u001b[49m\u001b[43mBy\u001b[49m\u001b[38;5;241;43m.\u001b[39;49m\u001b[43mPARTIAL_LINK_TEXT\u001b[49m\u001b[43m,\u001b[49m\u001b[43m \u001b[49m\u001b[38;5;124;43m\"\u001b[39;49m\u001b[38;5;124;43mPortuguese era\u001b[39;49m\u001b[38;5;124;43m\"\u001b[39;49m\u001b[43m)\u001b[49m\n\u001b[0;32m      4\u001b[0m text_content\u001b[38;5;241m.\u001b[39mtext\n",
      "File \u001b[1;32m~\\anaconda3\\lib\\site-packages\\selenium\\webdriver\\remote\\webdriver.py:917\u001b[0m, in \u001b[0;36mWebDriver.find_element\u001b[1;34m(self, by, value)\u001b[0m\n\u001b[0;32m    914\u001b[0m         \u001b[38;5;28;01mraise\u001b[39;00m NoSuchElementException(\u001b[38;5;124mf\u001b[39m\u001b[38;5;124m\"\u001b[39m\u001b[38;5;124mCannot locate relative element with: \u001b[39m\u001b[38;5;132;01m{\u001b[39;00mby\u001b[38;5;241m.\u001b[39mroot\u001b[38;5;132;01m}\u001b[39;00m\u001b[38;5;124m\"\u001b[39m)\n\u001b[0;32m    915\u001b[0m     \u001b[38;5;28;01mreturn\u001b[39;00m elements[\u001b[38;5;241m0\u001b[39m]\n\u001b[1;32m--> 917\u001b[0m \u001b[38;5;28;01mreturn\u001b[39;00m \u001b[38;5;28;43mself\u001b[39;49m\u001b[38;5;241;43m.\u001b[39;49m\u001b[43mexecute\u001b[49m\u001b[43m(\u001b[49m\u001b[43mCommand\u001b[49m\u001b[38;5;241;43m.\u001b[39;49m\u001b[43mFIND_ELEMENT\u001b[49m\u001b[43m,\u001b[49m\u001b[43m \u001b[49m\u001b[43m{\u001b[49m\u001b[38;5;124;43m\"\u001b[39;49m\u001b[38;5;124;43musing\u001b[39;49m\u001b[38;5;124;43m\"\u001b[39;49m\u001b[43m:\u001b[49m\u001b[43m \u001b[49m\u001b[43mby\u001b[49m\u001b[43m,\u001b[49m\u001b[43m \u001b[49m\u001b[38;5;124;43m\"\u001b[39;49m\u001b[38;5;124;43mvalue\u001b[39;49m\u001b[38;5;124;43m\"\u001b[39;49m\u001b[43m:\u001b[49m\u001b[43m \u001b[49m\u001b[43mvalue\u001b[49m\u001b[43m}\u001b[49m\u001b[43m)\u001b[49m[\u001b[38;5;124m\"\u001b[39m\u001b[38;5;124mvalue\u001b[39m\u001b[38;5;124m\"\u001b[39m]\n",
      "File \u001b[1;32m~\\anaconda3\\lib\\site-packages\\selenium\\webdriver\\remote\\webdriver.py:448\u001b[0m, in \u001b[0;36mWebDriver.execute\u001b[1;34m(self, driver_command, params)\u001b[0m\n\u001b[0;32m    446\u001b[0m response \u001b[38;5;241m=\u001b[39m \u001b[38;5;28mself\u001b[39m\u001b[38;5;241m.\u001b[39mcommand_executor\u001b[38;5;241m.\u001b[39mexecute(driver_command, params)\n\u001b[0;32m    447\u001b[0m \u001b[38;5;28;01mif\u001b[39;00m response:\n\u001b[1;32m--> 448\u001b[0m     \u001b[38;5;28;43mself\u001b[39;49m\u001b[38;5;241;43m.\u001b[39;49m\u001b[43merror_handler\u001b[49m\u001b[38;5;241;43m.\u001b[39;49m\u001b[43mcheck_response\u001b[49m\u001b[43m(\u001b[49m\u001b[43mresponse\u001b[49m\u001b[43m)\u001b[49m\n\u001b[0;32m    449\u001b[0m     response[\u001b[38;5;124m\"\u001b[39m\u001b[38;5;124mvalue\u001b[39m\u001b[38;5;124m\"\u001b[39m] \u001b[38;5;241m=\u001b[39m \u001b[38;5;28mself\u001b[39m\u001b[38;5;241m.\u001b[39m_unwrap_value(response\u001b[38;5;241m.\u001b[39mget(\u001b[38;5;124m\"\u001b[39m\u001b[38;5;124mvalue\u001b[39m\u001b[38;5;124m\"\u001b[39m, \u001b[38;5;28;01mNone\u001b[39;00m))\n\u001b[0;32m    450\u001b[0m     \u001b[38;5;28;01mreturn\u001b[39;00m response\n",
      "File \u001b[1;32m~\\anaconda3\\lib\\site-packages\\selenium\\webdriver\\remote\\errorhandler.py:232\u001b[0m, in \u001b[0;36mErrorHandler.check_response\u001b[1;34m(self, response)\u001b[0m\n\u001b[0;32m    230\u001b[0m         alert_text \u001b[38;5;241m=\u001b[39m value[\u001b[38;5;124m\"\u001b[39m\u001b[38;5;124malert\u001b[39m\u001b[38;5;124m\"\u001b[39m]\u001b[38;5;241m.\u001b[39mget(\u001b[38;5;124m\"\u001b[39m\u001b[38;5;124mtext\u001b[39m\u001b[38;5;124m\"\u001b[39m)\n\u001b[0;32m    231\u001b[0m     \u001b[38;5;28;01mraise\u001b[39;00m exception_class(message, screen, stacktrace, alert_text)  \u001b[38;5;66;03m# type: ignore[call-arg]  # mypy is not smart enough here\u001b[39;00m\n\u001b[1;32m--> 232\u001b[0m \u001b[38;5;28;01mraise\u001b[39;00m exception_class(message, screen, stacktrace)\n",
      "\u001b[1;31mNoSuchElementException\u001b[0m: Message: no such element: Unable to locate element: {\"method\":\"partial link text\",\"selector\":\"Portuguese era\"}\n  (Session info: chrome=136.0.7103.93); For documentation on this error, please visit: https://www.selenium.dev/documentation/webdriver/troubleshooting/errors#no-such-element-exception\nStacktrace:\n\tGetHandleVerifier [0x00007FF6ED4BCF25+75717]\n\tGetHandleVerifier [0x00007FF6ED4BCF80+75808]\n\t(No symbol) [0x00007FF6ED288F9A]\n\t(No symbol) [0x00007FF6ED2DF4C6]\n\t(No symbol) [0x00007FF6ED2DF77C]\n\t(No symbol) [0x00007FF6ED332577]\n\t(No symbol) [0x00007FF6ED3073BF]\n\t(No symbol) [0x00007FF6ED32F39C]\n\t(No symbol) [0x00007FF6ED307153]\n\t(No symbol) [0x00007FF6ED2D0421]\n\t(No symbol) [0x00007FF6ED2D11B3]\n\tGetHandleVerifier [0x00007FF6ED7BD6FD+3223453]\n\tGetHandleVerifier [0x00007FF6ED7B7CA2+3200322]\n\tGetHandleVerifier [0x00007FF6ED7D5AD3+3322739]\n\tGetHandleVerifier [0x00007FF6ED4D69FA+180890]\n\tGetHandleVerifier [0x00007FF6ED4DE0FF+211359]\n\tGetHandleVerifier [0x00007FF6ED4C5274+109332]\n\tGetHandleVerifier [0x00007FF6ED4C5422+109762]\n\tGetHandleVerifier [0x00007FF6ED4ABA39+4825]\n\tBaseThreadInitThunk [0x00007FFE77FE259D+29]\n\tRtlUserThreadStart [0x00007FFE78AEAF38+40]\n"
     ]
    }
   ],
   "source": [
    "# element_by_link\n",
    "\n",
    "text_content = driver.find_element(By.LINK_TEXT, \"Portuguese era\")\n",
    "text_content.text"
   ]
  },
  {
   "cell_type": "code",
   "execution_count": null,
   "id": "3a7d0b4f",
   "metadata": {},
   "outputs": [],
   "source": []
  }
 ],
 "metadata": {
  "kernelspec": {
   "display_name": "Python 3 (ipykernel)",
   "language": "python",
   "name": "python3"
  },
  "language_info": {
   "codemirror_mode": {
    "name": "ipython",
    "version": 3
   },
   "file_extension": ".py",
   "mimetype": "text/x-python",
   "name": "python",
   "nbconvert_exporter": "python",
   "pygments_lexer": "ipython3",
   "version": "3.10.9"
  }
 },
 "nbformat": 4,
 "nbformat_minor": 5
}
