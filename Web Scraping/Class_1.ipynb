{
 "cells": [
  {
   "cell_type": "markdown",
   "id": "23430216",
   "metadata": {},
   "source": [
    "## Basic Webscraping keywords\n",
    "### find & find_all\n",
    "### select_one & select"
   ]
  },
  {
   "cell_type": "code",
   "execution_count": 3,
   "id": "655cc99b",
   "metadata": {},
   "outputs": [],
   "source": [
    "import requests\n",
    "from bs4 import BeautifulSoup"
   ]
  },
  {
   "cell_type": "code",
   "execution_count": 5,
   "id": "4283f34b",
   "metadata": {},
   "outputs": [
    {
     "data": {
      "text/plain": [
       "<Response [200]>"
      ]
     },
     "execution_count": 5,
     "metadata": {},
     "output_type": "execute_result"
    }
   ],
   "source": [
    "url = \"https://en.wikipedia.org/wiki/Venezuela\"\n",
    "\n",
    "# response = requests.get(url)\n",
    "# response = requests.head(url)  --This gives same result as .get\n",
    "# response"
   ]
  },
  {
   "cell_type": "code",
   "execution_count": 8,
   "id": "1c63069e",
   "metadata": {},
   "outputs": [],
   "source": [
    "page = requests.get(url)\n",
    "soup = BeautifulSoup(page.content, \"html.parser\")\n",
    "# soup = BeautifulSoup(page.text, \"html.parser\")  --This is also the same thing as page.content"
   ]
  },
  {
   "cell_type": "code",
   "execution_count": 11,
   "id": "c07f515e",
   "metadata": {},
   "outputs": [
    {
     "data": {
      "text/plain": [
       "'Venezuela - Wikipedia'"
      ]
     },
     "execution_count": 11,
     "metadata": {},
     "output_type": "execute_result"
    }
   ],
   "source": [
    "title = soup.find(\"title\")\n",
    "title.text"
   ]
  },
  {
   "cell_type": "code",
   "execution_count": 17,
   "id": "770a39b5",
   "metadata": {},
   "outputs": [
    {
     "data": {
      "text/plain": [
       "36"
      ]
     },
     "execution_count": 17,
     "metadata": {},
     "output_type": "execute_result"
    }
   ],
   "source": [
    "# headers = soup.find(\"div\", class_ = \"mw-heading mw-heading3\")\n",
    "# headers.text\n",
    "\n",
    "headers3 = soup.find_all(\"div\", class_ = \"mw-heading mw-heading3\")\n",
    "len(headers3)"
   ]
  },
  {
   "cell_type": "code",
   "execution_count": 18,
   "id": "3ee318bf",
   "metadata": {},
   "outputs": [
    {
     "name": "stdout",
     "output_type": "stream",
     "text": [
      "Pre-Columbian history\n",
      "Colonization\n",
      "Late 15th century to early 17th century\n",
      "Independence and 19th century\n",
      "20th century\n",
      "Bolivarian government under Chávez: 1999–2013\n",
      "Bolivarian government under Maduro: 2013–present\n",
      "Climate\n",
      "Biodiversity and conservation\n",
      "Hydrography\n",
      "Relief\n",
      "Valleys\n",
      "Deserts\n",
      "Administrative divisions\n",
      "Suspension of constitutional rights\n",
      "Foreign relations\n",
      "Military\n",
      "Law and crime\n",
      "Human rights\n",
      "Corruption\n",
      "Tourism\n",
      "Shortages\n",
      "Petroleum and other resources\n",
      "Transport\n",
      "Utilities\n",
      "Ethnicity\n",
      "Languages\n",
      "Religion\n",
      "Architecture\n",
      "Art\n",
      "Literature\n",
      "Music\n",
      "Sport\n",
      "Articles\n",
      "Books\n",
      "Talks and interviews\n"
     ]
    }
   ],
   "source": [
    "for subtopics in headers3:\n",
    "    print(subtopics.text)"
   ]
  },
  {
   "cell_type": "code",
   "execution_count": 19,
   "id": "6585a126",
   "metadata": {},
   "outputs": [
    {
     "data": {
      "text/plain": [
       "15"
      ]
     },
     "execution_count": 19,
     "metadata": {},
     "output_type": "execute_result"
    }
   ],
   "source": [
    "headers2 = soup.find_all(\"div\", class_ = \"mw-heading mw-heading2\")\n",
    "len(headers2)"
   ]
  },
  {
   "cell_type": "code",
   "execution_count": 20,
   "id": "ea367315",
   "metadata": {},
   "outputs": [
    {
     "name": "stdout",
     "output_type": "stream",
     "text": [
      "Etymology\n",
      "History\n",
      "Geography\n",
      "Government and politics\n",
      "Economy\n",
      "Infrastructure\n",
      "Demographics\n",
      "Health\n",
      "Education\n",
      "Culture\n",
      "See also\n",
      "Notes\n",
      "References\n",
      "Bibliography\n",
      "External links\n"
     ]
    }
   ],
   "source": [
    "for subtopics in headers2:\n",
    "    print(subtopics.text)"
   ]
  },
  {
   "cell_type": "code",
   "execution_count": 21,
   "id": "495d5fd7",
   "metadata": {},
   "outputs": [
    {
     "data": {
      "text/plain": [
       "0"
      ]
     },
     "execution_count": 21,
     "metadata": {},
     "output_type": "execute_result"
    }
   ],
   "source": [
    "headers1 = soup.find_all(\"div\", class_ = \"mw-heading mw-heading1\")\n",
    "len(headers1)"
   ]
  },
  {
   "cell_type": "code",
   "execution_count": 31,
   "id": "59cec7f1",
   "metadata": {},
   "outputs": [
    {
     "data": {
      "text/plain": [
       "'\\n\\n\\n\\n\\n\\n\\nMain menu\\n\\n\\n\\n\\n\\nMain menu\\nmove to sidebar\\nhide\\n\\n\\n\\n\\t\\tNavigation\\n\\t\\n\\n\\nMain pageContentsCurrent eventsRandom articleAbout WikipediaContact us\\n\\n\\n\\n\\n\\n\\t\\tContribute\\n\\t\\n\\n\\nHelpLearn to editCommunity portalRecent changesUpload fileSpecial pages\\n\\n\\n\\n\\n\\n\\n\\n\\n\\n\\n\\n\\n\\n\\n\\n\\n\\n\\n\\nSearch\\n\\n\\n\\n\\n\\n\\n\\n\\n\\n\\n\\nSearch\\n\\n\\n\\n\\n\\n\\n\\n\\n\\n\\n\\n\\n\\n\\n\\n\\n\\n\\n\\n\\n\\n\\nAppearance\\n\\n\\n\\n\\n\\n\\n\\n\\n\\n\\n\\n\\n\\n\\n\\n\\nDonate\\n\\nCreate account\\n\\nLog in\\n\\n\\n\\n\\n\\n\\n\\n\\nPersonal tools\\n\\n\\n\\n\\n\\nDonate Create account Log in\\n\\n\\n\\n\\n\\n\\t\\tPages for logged out editors learn more\\n\\n\\n\\nContributionsTalk\\n\\n\\n\\n\\n\\n\\n\\n\\n'"
      ]
     },
     "execution_count": 31,
     "metadata": {},
     "output_type": "execute_result"
    }
   ],
   "source": [
    "head1 = soup.select_one(\"div\")\n",
    "head1.text"
   ]
  },
  {
   "cell_type": "code",
   "execution_count": 32,
   "id": "a390a885",
   "metadata": {},
   "outputs": [
    {
     "data": {
      "text/plain": [
       "564"
      ]
     },
     "execution_count": 32,
     "metadata": {},
     "output_type": "execute_result"
    }
   ],
   "source": [
    "head2 = soup.select(\"div\")\n",
    "len(head2)"
   ]
  },
  {
   "cell_type": "code",
   "execution_count": null,
   "id": "75ed03a0",
   "metadata": {},
   "outputs": [],
   "source": []
  }
 ],
 "metadata": {
  "kernelspec": {
   "display_name": "Python 3 (ipykernel)",
   "language": "python",
   "name": "python3"
  },
  "language_info": {
   "codemirror_mode": {
    "name": "ipython",
    "version": 3
   },
   "file_extension": ".py",
   "mimetype": "text/x-python",
   "name": "python",
   "nbconvert_exporter": "python",
   "pygments_lexer": "ipython3",
   "version": "3.10.9"
  }
 },
 "nbformat": 4,
 "nbformat_minor": 5
}
