{
 "cells": [
  {
   "cell_type": "code",
   "execution_count": 23,
   "id": "38f5a68b",
   "metadata": {},
   "outputs": [],
   "source": [
    "from selenium.webdriver import Chrome\n",
    "from selenium.webdriver.support.ui import Select\n",
    "from selenium.webdriver.support.ui import WebDriverWait\n",
    "from selenium.webdriver.common.by import By\n",
    "from selenium import webdriver\n",
    "from selenium.webdriver.chrome.options import Options\n",
    "from selenium.webdriver.support import expected_conditions as EC\n",
    "\n",
    "from selenium.webdriver.chrome.service import Service\n",
    "\n",
    "service = Service(executable_path = r'C:\\Users\\LENOVO\\Downloads\\chromedriver-win64\\chromedriver-win64\\chromedriver.exe')\n",
    "\n",
    "# Initialize the WebDriver\n",
    "driver = webdriver.Chrome(service = service)\n",
    "\n",
    "# Open a website\n",
    "# driver.get(\"https://zillow.com\")\n",
    "\n",
    "# Print the page title\n",
    "# print(driver.title)\n",
    "\n",
    "# Close the browser\n",
    "# driver.quit()"
   ]
  },
  {
   "cell_type": "markdown",
   "id": "0dfd0bdc",
   "metadata": {},
   "source": [
    "# Finding and Interacting with Elements\n",
    "## Methods to find elements"
   ]
  },
  {
   "cell_type": "code",
   "execution_count": null,
   "id": "3c8484c7",
   "metadata": {},
   "outputs": [],
   "source": [
    "# element_by_id = driver.find_element(By.ID, \"login-button\")\n",
    "\n",
    "# element_by_name = driver.find_element(By.NAME, \"username\")\n",
    "\n",
    "# element_by_class = driver.find_element(By.CLASS_NAME, \"submit-button\")\n",
    "\n",
    "# element_by_tag = driver.find_element(By.TAG_NAME, \"button\")\n",
    "\n",
    "# element_by_link = driver.find_element(By.LINK_TEXT, \"Sign Up\")\n",
    "\n",
    "# element_by_partial_link = driver.find_element(By.PARTIAL_LINK_TEXT, \"Sign\")\n",
    "\n",
    "# element_by_xpath = driver.find_element(By.XPATH, \"//div[@id = 'loom-companion-mv3']\")\n",
    "\n",
    "# elemen_by_css = driver.find_element(By.CSS_SELECTOR, \"#login-form .submit-button\")"
   ]
  },
  {
   "cell_type": "code",
   "execution_count": 19,
   "id": "a6b2c8a2",
   "metadata": {},
   "outputs": [
    {
     "name": "stdout",
     "output_type": "stream",
     "text": [
      "Nationality\n",
      "England\n",
      "England\n"
     ]
    }
   ],
   "source": [
    "driver.get(\"https://www.premierleague.com/players/19970/Max-Aarons/overview\")\n",
    "element_by_xpath = driver.find_element(By.XPATH, \"//div[@class = 'player-overview__col']\")\n",
    "print(element_by_xpath.text)\n",
    "\n",
    "driver.quit()"
   ]
  },
  {
   "cell_type": "code",
   "execution_count": 22,
   "id": "43d134e2",
   "metadata": {},
   "outputs": [
    {
     "name": "stdout",
     "output_type": "stream",
     "text": [
      "\n"
     ]
    }
   ],
   "source": [
    "driver.get(\"https://www.barnesandnoble.com/\")\n",
    "element_by_class = driver.find_element(By.CLASS_NAME, \"slick-list\")\n",
    "print(element_by_class.text)\n",
    "\n",
    "driver.quit()"
   ]
  },
  {
   "cell_type": "code",
   "execution_count": null,
   "id": "97c6b4a4",
   "metadata": {},
   "outputs": [],
   "source": [
    "### Search for anything on google using selenium"
   ]
  },
  {
   "cell_type": "code",
   "execution_count": null,
   "id": "25db2701",
   "metadata": {},
   "outputs": [],
   "source": [
    "driver.get(\"https//:google.com\")\n",
    "\n",
    "search_box = driver.find_element(By.CLASS_NAME, \"gLFyf\")\n",
    "search_box.send_keys(\"Selenium Python\")\n",
    "\n",
    "search_box.submit()"
   ]
  },
  {
   "cell_type": "code",
   "execution_count": null,
   "id": "50921327",
   "metadata": {},
   "outputs": [],
   "source": []
  }
 ],
 "metadata": {
  "kernelspec": {
   "display_name": "Python 3 (ipykernel)",
   "language": "python",
   "name": "python3"
  },
  "language_info": {
   "codemirror_mode": {
    "name": "ipython",
    "version": 3
   },
   "file_extension": ".py",
   "mimetype": "text/x-python",
   "name": "python",
   "nbconvert_exporter": "python",
   "pygments_lexer": "ipython3",
   "version": "3.10.9"
  }
 },
 "nbformat": 4,
 "nbformat_minor": 5
}
